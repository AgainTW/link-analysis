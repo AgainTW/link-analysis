{
  "nbformat": 4,
  "nbformat_minor": 0,
  "metadata": {
    "colab": {
      "provenance": []
    },
    "kernelspec": {
      "name": "python3",
      "display_name": "Python 3"
    },
    "language_info": {
      "name": "python"
    }
  },
  "cells": [
    {
      "cell_type": "code",
      "source": [
        "!pip install scipy==1.8.0"
      ],
      "metadata": {
        "colab": {
          "base_uri": "https://localhost:8080/",
          "height": 296
        },
        "id": "537pefNg7kQ6",
        "outputId": "4f3f1422-7a15-44bb-cff0-094cdcc65156"
      },
      "execution_count": null,
      "outputs": [
        {
          "output_type": "stream",
          "name": "stdout",
          "text": [
            "Looking in indexes: https://pypi.org/simple, https://us-python.pkg.dev/colab-wheels/public/simple/\n",
            "Collecting scipy==1.8.0\n",
            "  Downloading scipy-1.8.0-cp38-cp38-manylinux_2_17_x86_64.manylinux2014_x86_64.whl (41.6 MB)\n",
            "\u001b[K     |████████████████████████████████| 41.6 MB 1.3 MB/s \n",
            "\u001b[?25hRequirement already satisfied: numpy<1.25.0,>=1.17.3 in /usr/local/lib/python3.8/dist-packages (from scipy==1.8.0) (1.21.6)\n",
            "Installing collected packages: scipy\n",
            "  Attempting uninstall: scipy\n",
            "    Found existing installation: scipy 1.7.3\n",
            "    Uninstalling scipy-1.7.3:\n",
            "      Successfully uninstalled scipy-1.7.3\n",
            "Successfully installed scipy-1.8.0\n"
          ]
        },
        {
          "output_type": "display_data",
          "data": {
            "application/vnd.colab-display-data+json": {
              "pip_warning": {
                "packages": [
                  "scipy"
                ]
              }
            }
          },
          "metadata": {}
        }
      ]
    },
    {
      "cell_type": "markdown",
      "source": [
        "# import package"
      ],
      "metadata": {
        "id": "ELl_ZFyvfEf3"
      }
    },
    {
      "cell_type": "code",
      "execution_count": 112,
      "metadata": {
        "id": "ykBjTxR1ctcl"
      },
      "outputs": [],
      "source": [
        "import time\n",
        "import networkx as nx\n",
        "import pandas as pd\n",
        "import numpy as np\n",
        "import matplotlib.pyplot as plt\n",
        "from math import sqrt"
      ]
    },
    {
      "cell_type": "code",
      "source": [
        "from google.colab import drive\n",
        "drive.mount('/content/drive')\n",
        "%cd drive/MyDrive/Colab Notebooks"
      ],
      "metadata": {
        "colab": {
          "base_uri": "https://localhost:8080/"
        },
        "id": "jOw_07AwfI5W",
        "outputId": "b8b14820-b758-406c-9985-8e9aa3dbac08"
      },
      "execution_count": 2,
      "outputs": [
        {
          "output_type": "stream",
          "name": "stdout",
          "text": [
            "Drive already mounted at /content/drive; to attempt to forcibly remount, call drive.mount(\"/content/drive\", force_remount=True).\n",
            "/content/drive/MyDrive/Colab Notebooks\n"
          ]
        }
      ]
    },
    {
      "cell_type": "markdown",
      "source": [
        "# load data"
      ],
      "metadata": {
        "id": "pmGCCQIHfJ9u"
      }
    },
    {
      "cell_type": "code",
      "source": [
        "path = '/content/drive/MyDrive/DM_HW3/hw3dataset/'\n",
        "file_name = ['graph_1.txt', 'graph_2.txt', 'graph_3.txt', 'graph_4.txt', 'graph_5.txt', 'graph_6.txt', 'ibm-5000.txt']"
      ],
      "metadata": {
        "id": "OsjZmyROfF8t"
      },
      "execution_count": 3,
      "outputs": []
    },
    {
      "cell_type": "code",
      "source": [
        "data1 = pd.read_csv(path+file_name[0], sep=\",\", header=None)\n",
        "data1.columns = [\"v1\", \"v2\"]\n",
        "data2 = pd.read_csv(path+file_name[1], sep=\",\", header=None)\n",
        "data2.columns = [\"v1\", \"v2\"]\n",
        "data3 = pd.read_csv(path+file_name[2], sep=\",\", header=None)\n",
        "data3.columns = [\"v1\", \"v2\"]\n",
        "data4 = pd.read_csv(path+file_name[3], sep=\",\", header=None)\n",
        "data4.columns = [\"v1\", \"v2\"]\n",
        "data5 = pd.read_csv(path+file_name[4], sep=\",\", header=None)\n",
        "data5.columns = [\"v1\", \"v2\"]\n",
        "data6 = pd.read_csv(path+file_name[5], sep=\",\", header=None)\n",
        "data6.columns = [\"v1\", \"v2\"]\n",
        "data_ibm = pd.read_csv(path+file_name[6], delimiter='\\s+', header=None)\n",
        "data_ibm.columns = [\"index\",\"v1\", \"v2\"]"
      ],
      "metadata": {
        "id": "6QCF_iJWgdYK"
      },
      "execution_count": 4,
      "outputs": []
    },
    {
      "cell_type": "code",
      "source": [
        "G1 = nx.DiGraph()\n",
        "for i in range(len(data1)):\n",
        "  G1.add_edge(data1.iloc[i,0],data1.iloc[i,1])\n",
        "G2 = nx.DiGraph()\n",
        "for i in range(len(data2)):\n",
        "  G2.add_edge(data2.iloc[i,0],data2.iloc[i,1])\n",
        "G3 = nx.DiGraph()\n",
        "for i in range(len(data3)):\n",
        "  G3.add_edge(data3.iloc[i,0],data3.iloc[i,1])\n",
        "G4 = nx.DiGraph()\n",
        "for i in range(len(data4)):\n",
        "  G4.add_edge(data4.iloc[i,0],data4.iloc[i,1])\n",
        "G5 = nx.DiGraph()\n",
        "for i in range(len(data5)):\n",
        "  G5.add_edge(data5.iloc[i,0],data5.iloc[i,1])\n",
        "G6 = nx.DiGraph()\n",
        "for i in range(len(data6)):\n",
        "  G6.add_edge(data6.iloc[i,0],data6.iloc[i,1])\n",
        "Gibm = nx.DiGraph()\n",
        "for i in range(len(data_ibm)):\n",
        "  Gibm.add_edge(data_ibm.iloc[i,1],data_ibm.iloc[i,2])"
      ],
      "metadata": {
        "id": "gKb4_Z29s-U_"
      },
      "execution_count": 18,
      "outputs": []
    },
    {
      "cell_type": "code",
      "source": [
        "nx.draw_networkx(G4)"
      ],
      "metadata": {
        "colab": {
          "base_uri": "https://localhost:8080/",
          "height": 248
        },
        "id": "CM_H8CMOp-o4",
        "outputId": "a4ff59a2-f312-4227-cff6-60a426b283dd"
      },
      "execution_count": null,
      "outputs": [
        {
          "output_type": "display_data",
          "data": {
            "text/plain": [
              "<Figure size 432x288 with 1 Axes>"
            ],
            "image/png": "[encoded data removed]"
          },
          "metadata": {}
        }
      ]
    },
    {
      "cell_type": "markdown",
      "source": [
        "# HITS"
      ],
      "metadata": {
        "id": "FzSnNV5wf92q"
      }
    },
    {
      "cell_type": "code",
      "source": [
        "def HITS(G, k: int = 100):\n",
        "  start = time.time()\n",
        "\n",
        "  # 建立類別\n",
        "  class node():\n",
        "    def __init__(self):\n",
        "      self.auth = []\n",
        "      self.hub = []\n",
        "    def set_initial(self, nodenumber):\n",
        "      self.auth = np.ones(nodenumber+1)\n",
        "      self.hub = np.ones(nodenumber+1)  \n",
        "\n",
        "  # 初始化\n",
        "  node = node()\n",
        "  node.set_initial(max(G.nodes))\n",
        "\n",
        "  # 迭代\n",
        "  for i in range(1,k+1,1):\n",
        "  ### 更新auth\n",
        "    norm = 0\n",
        "    for p in G.nodes:\n",
        "      node.auth[p] = 0\n",
        "      for q in G.predecessors(p):\n",
        "        node.auth[p] += node.hub[q]\n",
        "      norm += node.auth[p]**2\n",
        "    norm = sqrt(norm)\n",
        "    for p in range(len(G.nodes)):\n",
        "      node.auth[p] = node.auth[p] / norm\n",
        "  ### 更新hub\n",
        "    norm = 0\n",
        "    for p in G.nodes:\n",
        "      node.hub[p] = 0\n",
        "      for r in G.neighbors(p):\n",
        "        node.hub[p] += node.auth[r]\n",
        "      norm += node.hub[p]**2\n",
        "    norm = sqrt(norm)\n",
        "    for p in range(len(G.nodes)):\n",
        "      node.hub[p] = node.hub[p] / norm\n",
        "  \n",
        "  end = time.time()\n",
        "  print(\"執行時間：%f 秒\" % (end - start))\n",
        "\n",
        "  return node.auth[1:], node.hub[1:]"
      ],
      "metadata": {
        "id": "rv_FeHi9f9aO"
      },
      "execution_count": 114,
      "outputs": []
    },
    {
      "cell_type": "code",
      "source": [
        "auth, hub = HITS(G1, 10)\n",
        "print(\"手刻hub  ：\",hub)\n",
        "print(\"手刻auth  ：\",auth)"
      ],
      "metadata": {
        "colab": {
          "base_uri": "https://localhost:8080/"
        },
        "id": "R18eSuWvVbRw",
        "outputId": "3fe47632-2ca2-4935-92c3-d6d746aadcfc"
      },
      "execution_count": null,
      "outputs": [
        {
          "output_type": "stream",
          "name": "stdout",
          "text": [
            "手刻hub  ： [0.33333333 0.33333333 0.33333333 0.33333333 0.74535599 0.        ]\n",
            "手刻auth  ： [0.         0.33333333 0.33333333 0.33333333 0.33333333 0.74535599]\n"
          ]
        }
      ]
    },
    {
      "cell_type": "markdown",
      "source": [
        "# PageRank"
      ],
      "metadata": {
        "id": "O79RRj9dgCUa"
      }
    },
    {
      "cell_type": "code",
      "source": [
        "def pagerank(G, k: int = 100, d: float = 0.85):\n",
        "  start = time.time()\n",
        "\n",
        "  G_m = nx.to_numpy_matrix(G)\n",
        "  M = np.squeeze(np.asarray(G_m))  \n",
        "\n",
        "  N = M.shape[1]\n",
        "  v = np.ones(N) / N\n",
        "  M_hat = (d * M + (1 - d) / N)\n",
        "  for i in range(k):\n",
        "      v = M_hat @ v\n",
        "  \n",
        "  end = time.time()\n",
        "  print(\"執行時間：%f 秒\" % (end - start))\n",
        "\n",
        "  return v"
      ],
      "metadata": {
        "id": "RnWtYfD6gB6i"
      },
      "execution_count": 113,
      "outputs": []
    },
    {
      "cell_type": "code",
      "source": [
        "v = pagerank(G1, 10, 0.85)\n",
        "v"
      ],
      "metadata": {
        "colab": {
          "base_uri": "https://localhost:8080/"
        },
        "id": "4UF_IFl6PvaI",
        "outputId": "76215b6b-0d39-44ad-b4a0-b6bcb12b1bef"
      },
      "execution_count": null,
      "outputs": [
        {
          "output_type": "execute_result",
          "data": {
            "text/plain": [
              "array([0.01932693, 0.01439156, 0.01022181, 0.00709797, 0.00436216,\n",
              "       0.00200443])"
            ]
          },
          "metadata": {},
          "execution_count": 28
        }
      ]
    },
    {
      "cell_type": "markdown",
      "source": [
        "# SimRank"
      ],
      "metadata": {
        "id": "FGYBKsmwgJ5p"
      }
    },
    {
      "cell_type": "code",
      "source": [
        "### 計算\n",
        "def calculate_SimRank(G, sim, u, v, d):\n",
        "  if(u==v):\n",
        "    return 1\n",
        "\n",
        "  in_neighbors_u = list(i for i in G.predecessors(u))\n",
        "  in_neighbors_v = list(i for i in G.predecessors(v))\n",
        "\n",
        "  if(len(in_neighbors_u) == 0 or len(in_neighbors_v) == 0):\n",
        "    return 0\n",
        "\n",
        "  SimRank_sum = 0\n",
        "  for w in in_neighbors_u:\n",
        "    for x in in_neighbors_v:\n",
        "      SimRank_sum += sim[w,x]\n",
        "\n",
        "  scale = d / (len(in_neighbors_u) * len(in_neighbors_v))\n",
        "  new_SimRank = scale * SimRank_sum\n",
        "\n",
        "  return new_SimRank\n",
        "\n",
        "### 迭代\n",
        "def SimRank_one_iter(G, sim, d):\n",
        "  new_SimRank = sim\n",
        "  for u in G.nodes:\n",
        "    for v in G.nodes:\n",
        "      new_SimRank[u,v] = calculate_SimRank(G, sim, u, v, d)\n",
        "  return new_SimRank\n",
        "\n",
        "### 初始化 \n",
        "def init_sim(G):\n",
        "  sim = np.zeros((max(G.nodes)+1, max(G.nodes)+1))\n",
        "  for i in range(len(sim)):\n",
        "    sim[i,i] = 1\n",
        "  return sim\n",
        "\n",
        "### 執行\n",
        "def get_simrank(G,d,k):\n",
        "  start = time.time()\n",
        "\n",
        "  old_sim = init_sim(G)\n",
        "  new_sim = old_sim\n",
        "\n",
        "  for i in range(k):\n",
        "    old_sim = new_sim\n",
        "    new_sim = SimRank_one_iter(G, new_sim, d)\n",
        "\n",
        "  end = time.time()\n",
        "  print(\"執行時間：%f 秒\" % (end - start))\n",
        "\n",
        "  return new_sim[1:,1:]"
      ],
      "metadata": {
        "id": "8t1IJmQFyzGy"
      },
      "execution_count": 115,
      "outputs": []
    },
    {
      "cell_type": "code",
      "source": [
        "#nx.simrank_similarity(G4,importance_factor=0.9)\n",
        "s = get_simrank(G4,0.9,30)\n",
        "s"
      ],
      "metadata": {
        "colab": {
          "base_uri": "https://localhost:8080/"
        },
        "id": "Cmw3mB-Teb-G",
        "outputId": "a813fdff-2954-43ce-c3f2-f8a134e4f935"
      },
      "execution_count": null,
      "outputs": [
        {
          "output_type": "execute_result",
          "data": {
            "text/plain": [
              "array([[1.        , 0.56308238, 0.55339835, 0.55602116, 0.5440516 ,\n",
              "        0.60279409, 0.50924824],\n",
              "       [0.56308242, 1.        , 0.59679408, 0.56752252, 0.60393275,\n",
              "        0.50221939, 0.63282566],\n",
              "       [0.55339843, 0.59679414, 1.        , 0.62843652, 0.58456055,\n",
              "        0.62685134, 0.63002169],\n",
              "       [0.55602128, 0.56752264, 0.62843658, 1.        , 0.54545332,\n",
              "        0.69482322, 0.69482314],\n",
              "       [0.54405182, 0.60393289, 0.58456065, 0.5454534 , 1.        ,\n",
              "        0.49059253, 0.60031427],\n",
              "       [0.60279436, 0.50221976, 0.62685156, 0.69482332, 0.4905927 ,\n",
              "        1.        , 0.48964664],\n",
              "       [0.50924845, 0.63282585, 0.63002183, 0.69482322, 0.60031428,\n",
              "        0.48964644, 1.        ]])"
            ]
          },
          "metadata": {},
          "execution_count": 233
        }
      ]
    },
    {
      "cell_type": "markdown",
      "source": [
        "# 輸出檔案"
      ],
      "metadata": {
        "id": "ZnqtqbYkhdeJ"
      }
    },
    {
      "cell_type": "code",
      "source": [
        "auth, hub = HITS(G1, 30)\n",
        "np.savetxt(path+\"graph_1_HITS_authority.txt\", auth, fmt='%f3')\n",
        "np.savetxt(path+\"graph_1_HITS_hub.txt\", hub, fmt='%f3')\n",
        "\n",
        "v = pagerank(G1, 30, 0.1)\n",
        "np.savetxt(path+\"graph_1_PageRank.txt\", v, fmt='%f3')\n",
        "\n",
        "s = get_simrank(G1,0.7,30)\n",
        "np.savetxt(path+\"graph_1_SimRank.txt\", s, fmt='%f3')"
      ],
      "metadata": {
        "id": "ri-tN3x2hc71",
        "colab": {
          "base_uri": "https://localhost:8080/"
        },
        "outputId": "aa033ac6-2c05-4279-b622-d1fe807a2328"
      },
      "execution_count": 116,
      "outputs": [
        {
          "output_type": "stream",
          "name": "stdout",
          "text": [
            "執行時間：0.001585 秒\n",
            "執行時間：0.000404 秒\n",
            "執行時間：0.003021 秒\n"
          ]
        }
      ]
    },
    {
      "cell_type": "code",
      "source": [
        "auth, hub = HITS(G2, 30)\n",
        "np.savetxt(path+\"graph_2_HITS_authority.txt\", auth, fmt='%f3')\n",
        "np.savetxt(path+\"graph_2_HITS_hub.txt\", hub, fmt='%f3')\n",
        "\n",
        "v = pagerank(G2, 30, 0.1)\n",
        "np.savetxt(path+\"graph_2_PageRank.txt\", v, fmt='%f3')\n",
        "\n",
        "s = get_simrank(G2,0.7,30)\n",
        "np.savetxt(path+\"graph_2_SimRank.txt\", s, fmt='%f3')"
      ],
      "metadata": {
        "id": "b3GB6MuOmh6k",
        "colab": {
          "base_uri": "https://localhost:8080/"
        },
        "outputId": "5a969022-0a99-4ec6-9f91-9416928e1c27"
      },
      "execution_count": 117,
      "outputs": [
        {
          "output_type": "stream",
          "name": "stdout",
          "text": [
            "執行時間：0.001534 秒\n",
            "執行時間：0.000283 秒\n",
            "執行時間：0.001881 秒\n"
          ]
        }
      ]
    },
    {
      "cell_type": "code",
      "source": [
        "auth, hub = HITS(G3, 30)\n",
        "np.savetxt(path+\"graph_3_HITS_authority.txt\", auth, fmt='%f3')\n",
        "np.savetxt(path+\"graph_3_HITS_hub.txt\", hub, fmt='%f3')\n",
        "\n",
        "v = pagerank(G3, 30, 0.1)\n",
        "np.savetxt(path+\"graph_3_PageRank.txt\", v, fmt='%f3')\n",
        "\n",
        "s = get_simrank(G3,0.7,30)\n",
        "np.savetxt(path+\"graph_3_SimRank.txt\", s, fmt='%f3')"
      ],
      "metadata": {
        "id": "w6zvaPcsm1Th",
        "colab": {
          "base_uri": "https://localhost:8080/"
        },
        "outputId": "40ef29ac-fdb8-468f-cbe6-eb0a1d6f0fd2"
      },
      "execution_count": 118,
      "outputs": [
        {
          "output_type": "stream",
          "name": "stdout",
          "text": [
            "執行時間：0.001008 秒\n",
            "執行時間：0.000274 秒\n",
            "執行時間：0.001438 秒\n"
          ]
        }
      ]
    },
    {
      "cell_type": "code",
      "source": [
        "auth, hub = HITS(G4, 30)\n",
        "np.savetxt(path+\"graph_4_HITS_authority.txt\", auth, fmt='%f3')\n",
        "np.savetxt(path+\"graph_4_HITS_hub.txt\", hub, fmt='%f3')\n",
        "\n",
        "v = pagerank(G4, 30, 0.1)\n",
        "np.savetxt(path+\"graph_4_PageRank.txt\", v, fmt='%f3')\n",
        "\n",
        "s = get_simrank(G4,0.7,30)\n",
        "np.savetxt(path+\"graph_4_SimRank.txt\", s, fmt='%f3')"
      ],
      "metadata": {
        "id": "UCzXxThEnQVU",
        "colab": {
          "base_uri": "https://localhost:8080/"
        },
        "outputId": "86ce05dd-3ac9-4773-dfd7-536101d6b4ed"
      },
      "execution_count": 119,
      "outputs": [
        {
          "output_type": "stream",
          "name": "stdout",
          "text": [
            "執行時間：0.001967 秒\n",
            "執行時間：0.000418 秒\n",
            "執行時間：0.006557 秒\n"
          ]
        }
      ]
    },
    {
      "cell_type": "code",
      "source": [
        "auth, hub = HITS(G5, 30)\n",
        "np.savetxt(path+\"graph_5_HITS_authority.txt\", auth, fmt='%f3')\n",
        "np.savetxt(path+\"graph_5_HITS_hub.txt\", hub, fmt='%f3')\n",
        "\n",
        "v = pagerank(G5, 30, 0.1)\n",
        "np.savetxt(path+\"graph_5_PageRank.txt\", v, fmt='%f3')\n",
        "\n",
        "s = get_simrank(G5,0.7,30)\n",
        "np.savetxt(path+\"graph_5_SimRank.txt\", s, fmt='%f3')"
      ],
      "metadata": {
        "id": "ZgCqPwa7_0-Q",
        "colab": {
          "base_uri": "https://localhost:8080/"
        },
        "outputId": "5792915e-47f3-4f08-8843-174414179f05"
      },
      "execution_count": 120,
      "outputs": [
        {
          "output_type": "stream",
          "name": "stdout",
          "text": [
            "執行時間：0.085670 秒\n",
            "執行時間：0.009102 秒\n",
            "執行時間：29.540547 秒\n"
          ]
        }
      ]
    },
    {
      "cell_type": "code",
      "source": [
        "auth, hub = HITS(G6, 30)\n",
        "np.savetxt(path+\"graph_5_HITS_authority.txt\", auth, fmt='%f3')\n",
        "np.savetxt(path+\"graph_5_HITS_hub.txt\", hub, fmt='%f3')\n",
        "\n",
        "v = pagerank(G6, 30, 0.1)\n",
        "np.savetxt(path+\"graph_5_PageRank.txt\", v, fmt='%f3')"
      ],
      "metadata": {
        "id": "eYH86QkoArho",
        "colab": {
          "base_uri": "https://localhost:8080/"
        },
        "outputId": "325b50b2-9d6d-405e-b049-06f9edd701e9"
      },
      "execution_count": 121,
      "outputs": [
        {
          "output_type": "stream",
          "name": "stdout",
          "text": [
            "執行時間：0.285900 秒\n",
            "執行時間：0.034997 秒\n"
          ]
        }
      ]
    },
    {
      "cell_type": "code",
      "source": [
        "auth, hub = HITS(Gibm, 30)\n",
        "np.savetxt(path+\"ibm-5000_HITS_authority.tx\", auth, fmt='%f3')\n",
        "np.savetxt(path+\"ibm-5000_HITS_hub.txt\", hub, fmt='%f3')\n",
        "\n",
        "v = pagerank(Gibm, 30, 0.1)\n",
        "np.savetxt(path+\"ibm-5000_PageRank.txt\", v, fmt='%f3')"
      ],
      "metadata": {
        "id": "ItU627CDAubs",
        "colab": {
          "base_uri": "https://localhost:8080/"
        },
        "outputId": "eb51149a-aa9c-4af6-c5bc-713a7bfbf986"
      },
      "execution_count": 122,
      "outputs": [
        {
          "output_type": "stream",
          "name": "stdout",
          "text": [
            "執行時間：0.231266 秒\n",
            "執行時間：0.017145 秒\n"
          ]
        }
      ]
    },
    {
      "cell_type": "markdown",
      "source": [
        "# Find a way"
      ],
      "metadata": {
        "id": "S4JdpCVOePVa"
      }
    },
    {
      "cell_type": "code",
      "source": [
        "nx.draw_networkx(G3_a)"
      ],
      "metadata": {
        "colab": {
          "base_uri": "https://localhost:8080/",
          "height": 248
        },
        "id": "5kqVRgomey2q",
        "outputId": "3925121d-0894-4937-c316-1be453dc45c4"
      },
      "execution_count": 72,
      "outputs": [
        {
          "output_type": "display_data",
          "data": {
            "text/plain": [
              "<Figure size 432x288 with 1 Axes>"
            ],
            "image/png": "[encoded data removed]"
          },
          "metadata": {}
        }
      ]
    },
    {
      "cell_type": "code",
      "source": [
        "G1 = nx.DiGraph()\n",
        "G1_a = nx.DiGraph()\n",
        "for i in range(len(data1)):\n",
        "  G1.add_edge(data1.iloc[i,0],data1.iloc[i,1])\n",
        "  G1_a.add_edge(data1.iloc[i,0],data1.iloc[i,1])\n",
        "\n",
        "auth, hub = HITS(G1, 30)\n",
        "v = pagerank(G1, 30, 0.1)\n",
        "G1_a.add_edge(1,3)\n",
        "auth_a, hub_a = HITS(G1_a, 30)\n",
        "v_a = pagerank(G1_a, 30, 0.1)\n",
        "\n",
        "print(\"auth：\",auth[1])\n",
        "print(\"auth_a：\",auth_a[1])\n",
        "print(\"hub：\",hub[1])\n",
        "print(\"hub_a：\",hub_a[1])\n",
        "print(\"v：\",v[1])\n",
        "print(\"v_a：\",v_a[1])"
      ],
      "metadata": {
        "colab": {
          "base_uri": "https://localhost:8080/"
        },
        "id": "wrKh_wZbeQgG",
        "outputId": "c43383f9-95bb-4173-d373-f3d69e4be3ab"
      },
      "execution_count": 43,
      "outputs": [
        {
          "output_type": "stream",
          "name": "stdout",
          "text": [
            "auth： 0.3333333333333333\n",
            "auth_a： 0.5257311121190577\n",
            "hub： 0.3333333333333333\n",
            "hub_a： 0.5257311121190577\n",
            "v： 0.1016376038415808\n",
            "v_a： 0.15905858584641847\n"
          ]
        }
      ]
    },
    {
      "cell_type": "code",
      "source": [
        "G2 = nx.DiGraph()\n",
        "G2_a = nx.DiGraph()\n",
        "for i in range(len(data2)):\n",
        "  G2.add_edge(data2.iloc[i,0],data2.iloc[i,1])\n",
        "  G2_a.add_edge(data2.iloc[i,0],data2.iloc[i,1])\n",
        "\n",
        "auth, hub = HITS(G2, 30)\n",
        "v = pagerank(G2, 30, 0.1)\n",
        "G2_a.add_edge(1,3)\n",
        "auth_a, hub_a = HITS(G2_a, 30)\n",
        "v_a = pagerank(G2_a, 30, 0.1)\n",
        "\n",
        "print(\"auth：\",auth[1])\n",
        "print(\"auth_a：\",auth_a[1])\n",
        "print(\"hub：\",hub[1])\n",
        "print(\"hub_a：\",hub_a[1])\n",
        "print(\"v：\",v[1])\n",
        "print(\"v_a：\",v_a[1])"
      ],
      "metadata": {
        "colab": {
          "base_uri": "https://localhost:8080/"
        },
        "id": "mxLE02dsjbcU",
        "outputId": "f73624e9-96dc-4b59-fd8a-5023fe4efd7c"
      },
      "execution_count": 62,
      "outputs": [
        {
          "output_type": "stream",
          "name": "stdout",
          "text": [
            "auth： 0.31034298554859197\n",
            "auth_a： 0.5257311121190159\n",
            "hub： 0.31034298554859197\n",
            "hub_a： 0.5257311121190397\n",
            "v： 0.19999999999999998\n",
            "v_a： 0.3503252008608161\n"
          ]
        }
      ]
    },
    {
      "cell_type": "code",
      "source": [
        "G3 = nx.DiGraph()\n",
        "G3_a = nx.DiGraph()\n",
        "for i in range(len(data3)):\n",
        "  G3.add_edge(data3.iloc[i,0],data3.iloc[i,1])\n",
        "  G3_a.add_edge(data3.iloc[i,0],data3.iloc[i,1])\n",
        "\n",
        "auth, hub = HITS(G3, 30)\n",
        "v = pagerank(G3, 30, 0.1)\n",
        "G3_a.add_edge(2,4)\n",
        "G3_a.add_edge(4,2)\n",
        "auth_a, hub_a = HITS(G3_a, 30)\n",
        "v_a = pagerank(G3_a, 30, 0.1)\n",
        "\n",
        "print(\"auth：\",auth[1])\n",
        "print(\"auth_a：\",auth_a[1])\n",
        "print(\"hub：\",hub[1])\n",
        "print(\"hub_a：\",hub_a[1])\n",
        "print(\"v：\",v[1])\n",
        "print(\"v_a：\",v_a[1])"
      ],
      "metadata": {
        "colab": {
          "base_uri": "https://localhost:8080/"
        },
        "id": "vK-lbbXAj5w0",
        "outputId": "d1550b80-e0bf-4a63-a4ae-1de9303afb3f"
      },
      "execution_count": 71,
      "outputs": [
        {
          "output_type": "stream",
          "name": "stdout",
          "text": [
            "auth： 0.5537647602692684\n",
            "auth_a： 0.6560218873976725\n",
            "hub： 0.5405353104935973\n",
            "hub_a： 0.6560218873976725\n",
            "v： 1.2025555525072718\n",
            "v_a： 5.256995681404565\n"
          ]
        }
      ]
    },
    {
      "cell_type": "markdown",
      "source": [
        "# damping factor 和 decay factor"
      ],
      "metadata": {
        "id": "LReTvd9ElYw8"
      }
    },
    {
      "cell_type": "code",
      "source": [
        "d = range(1,10,1)\n",
        "d = [i/10 for i in d]\n",
        "v_list = []\n",
        "s_list = []\n",
        "for i in d:\n",
        "  v = pagerank(G1, 30, i)\n",
        "  s = get_simrank(G1,i,30)\n",
        "  v_list.append(v)\n",
        "  s_list.append(s[0,:])\n",
        "\n",
        "fig = plt.figure()\n",
        "for i in range(len(d)):\n",
        "  plt.plot(range(1,len(G1.nodes)+1),v_list[i],label='d='+str(d[i]))\n",
        "plt.xlabel(\"vertex\")\n",
        "plt.ylabel(\"pagerank\")\n",
        "plt.legend(bbox_to_anchor=(1.05, 1), loc=2, borderaxespad=0)\n",
        "plt.show\n",
        "\n",
        "fig = plt.figure()\n",
        "for i in range(len(d)):\n",
        "  plt.plot(range(1,len(G1.nodes)+1),s_list[i],label='d='+str(d[i]))\n",
        "plt.xlabel(\"vertex\")\n",
        "plt.ylabel(\"simrank\")\n",
        "plt.legend(bbox_to_anchor=(1.05, 1), loc=2, borderaxespad=0)\n",
        "plt.show"
      ],
      "metadata": {
        "colab": {
          "base_uri": "https://localhost:8080/",
          "height": 558
        },
        "id": "d8QA4XoelYOZ",
        "outputId": "7b1235b6-c2f1-411f-aaef-bf677c67b030"
      },
      "execution_count": 111,
      "outputs": [
        {
          "output_type": "execute_result",
          "data": {
            "text/plain": [
              "<function matplotlib.pyplot.show(*args, **kw)>"
            ]
          },
          "metadata": {},
          "execution_count": 111
        },
        {
          "output_type": "display_data",
          "data": {
            "text/plain": [
              "<Figure size 432x288 with 1 Axes>"
            ],
            "image/png": "[encoded data removed]"
          },
          "metadata": {
            "needs_background": "light"
          }
        },
        {
          "output_type": "display_data",
          "data": {
            "text/plain": [
              "<Figure size 432x288 with 1 Axes>"
            ],
            "image/png": "[encoded data removed]"
          },
          "metadata": {
            "needs_background": "light"
          }
        }
      ]
    },
    {
      "cell_type": "code",
      "source": [
        "d = range(1,10,1)\n",
        "d = [i/10 for i in d]\n",
        "v_list = []\n",
        "s_list = []\n",
        "for i in d:\n",
        "  v = pagerank(G2, 30, i)\n",
        "  s = get_simrank(G2, i, 30)\n",
        "  v_list.append(v)\n",
        "  s_list.append(s[0,:])\n",
        "\n",
        "fig = plt.figure()\n",
        "for i in range(len(d)):\n",
        "  plt.plot(range(1,len(G2.nodes)+1),v_list[i],label='d='+str(d[i]))\n",
        "plt.xlabel(\"vertex\")\n",
        "plt.ylabel(\"pagerank\")\n",
        "plt.legend(bbox_to_anchor=(1.05, 1), loc=2, borderaxespad=0)\n",
        "plt.show\n",
        "\n",
        "fig = plt.figure()\n",
        "for i in range(len(d)):\n",
        "  plt.plot(range(1,len(G2.nodes)+1),s_list[i],label='d='+str(d[i]))\n",
        "plt.xlabel(\"vertex\")\n",
        "plt.ylabel(\"simrank\")\n",
        "plt.legend(bbox_to_anchor=(1.05, 1), loc=2, borderaxespad=0)\n",
        "plt.show"
      ],
      "metadata": {
        "colab": {
          "base_uri": "https://localhost:8080/",
          "height": 569
        },
        "id": "8e5ixVxdqzQr",
        "outputId": "53f54818-2e8f-41e5-d9ae-a6a0a9c82475"
      },
      "execution_count": 110,
      "outputs": [
        {
          "output_type": "execute_result",
          "data": {
            "text/plain": [
              "<function matplotlib.pyplot.show(*args, **kw)>"
            ]
          },
          "metadata": {},
          "execution_count": 110
        },
        {
          "output_type": "display_data",
          "data": {
            "text/plain": [
              "<Figure size 432x288 with 1 Axes>"
            ],
            "image/png": "[encoded data removed]"
          },
          "metadata": {
            "needs_background": "light"
          }
        },
        {
          "output_type": "display_data",
          "data": {
            "text/plain": [
              "<Figure size 432x288 with 1 Axes>"
            ],
            "image/png": "[encoded data removed]"
          },
          "metadata": {
            "needs_background": "light"
          }
        }
      ]
    },
    {
      "cell_type": "code",
      "source": [
        "d = range(1,10,1)\n",
        "d = [i/10 for i in d]\n",
        "v_list = []\n",
        "s_list = []\n",
        "for i in d:\n",
        "  v = pagerank(G3, 30, i)\n",
        "  s = get_simrank(G3, i, 30)\n",
        "  v_list.append(v)\n",
        "  s_list.append(s[0,:])\n",
        "\n",
        "fig = plt.figure()\n",
        "for i in range(len(d)):\n",
        "  plt.plot(range(1,len(G3.nodes)+1),v_list[i],label='d='+str(d[i]))\n",
        "plt.xlabel(\"vertex\")\n",
        "plt.ylabel(\"pagerank\")\n",
        "plt.legend(bbox_to_anchor=(1.05, 1), loc=2, borderaxespad=0)\n",
        "plt.show\n",
        "\n",
        "fig = plt.figure()\n",
        "for i in range(len(d)):\n",
        "  plt.plot(range(1,len(G3.nodes)+1),s_list[i],label='d='+str(d[i]))\n",
        "plt.xlabel(\"vertex\")\n",
        "plt.ylabel(\"simrank\")\n",
        "plt.legend(bbox_to_anchor=(1.05, 1), loc=2, borderaxespad=0)\n",
        "plt.show"
      ],
      "metadata": {
        "colab": {
          "base_uri": "https://localhost:8080/",
          "height": 562
        },
        "id": "hvlrpdfqtOlS",
        "outputId": "2853612d-51f8-4a19-ef22-8cabf2fb6226"
      },
      "execution_count": 109,
      "outputs": [
        {
          "output_type": "execute_result",
          "data": {
            "text/plain": [
              "<function matplotlib.pyplot.show(*args, **kw)>"
            ]
          },
          "metadata": {},
          "execution_count": 109
        },
        {
          "output_type": "display_data",
          "data": {
            "text/plain": [
              "<Figure size 432x288 with 1 Axes>"
            ],
            "image/png": "[encoded data removed]"
          },
          "metadata": {
            "needs_background": "light"
          }
        },
        {
          "output_type": "display_data",
          "data": {
            "text/plain": [
              "<Figure size 432x288 with 1 Axes>"
            ],
            "image/png": "[encoded data removed]"
          },
          "metadata": {
            "needs_background": "light"
          }
        }
      ]
    },
    {
      "cell_type": "markdown",
      "source": [
        "# 廢棄"
      ],
      "metadata": {
        "id": "vmM9bGfU_Q20"
      }
    },
    {
      "cell_type": "code",
      "source": [
        "from itertools import product\n",
        "\n",
        "def cal_simrank(G, u, v, c, k):\n",
        "  if(k==0):\n",
        "    return 1\n",
        "  elif(u==v):\n",
        "    return 1\n",
        "  else:\n",
        "    k = k-1\n",
        "    in_neighbors_u = list(i for i in G.predecessors(u))\n",
        "    in_neighbors_v = list(i for i in G.predecessors(v))\n",
        "    if( (len(in_neighbors_u)*len(in_neighbors_v))==0 ):\n",
        "      return 1\n",
        "    else:\n",
        "      scale = c / (len(in_neighbors_u) * len(in_neighbors_v))\n",
        "      if(scale==0):\n",
        "        return 0\n",
        "      else:\n",
        "        return scale * sum( cal_simrank(G, w, x, c, k) for w, x in product(in_neighbors_u,in_neighbors_v) )\n",
        "\n",
        "def get_simrank(G, c, k):\n",
        "  SimRank = np.ones((len(G.nodes)+1, len(G.nodes)+1))\n",
        "  for u in G.nodes:\n",
        "    for v in G.nodes:\n",
        "        SimRank[u,v] = cal_simrank(G, u, v, c, k)\n",
        "  return SimRank[1:,1:]"
      ],
      "metadata": {
        "id": "v5lQhm3_gKJZ"
      },
      "execution_count": null,
      "outputs": []
    },
    {
      "cell_type": "code",
      "source": [
        "print(data_ibm['v2'].max())\n",
        "print(len(Gibm.nodes))\n",
        "print(max(Gibm.nodes))"
      ],
      "metadata": {
        "colab": {
          "base_uri": "https://localhost:8080/"
        },
        "id": "pBC6hXjUBWfH",
        "outputId": "cc49c58a-3515-431d-8591-76c0494eb990"
      },
      "execution_count": null,
      "outputs": [
        {
          "output_type": "stream",
          "name": "stdout",
          "text": [
            "998\n",
            "836\n",
            "998\n"
          ]
        }
      ]
    }
  ]
}